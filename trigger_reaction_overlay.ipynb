{
 "cells": [
  {
   "cell_type": "code",
   "execution_count": null,
   "metadata": {},
   "outputs": [],
   "source": [
    "filename = \"michal_test/flankers_hajcak2005_with_cues_c37a98/triggers_maps/triggerMap_test_cues_michal.txt\"\n",
    "# load file with triggers\n",
    "with open(filename, \"r\") as f:\n",
    "    triggers = f.readlines()\n",
    "triggers = [x.strip() for x in triggers]"
   ]
  },
  {
   "cell_type": "code",
   "execution_count": null,
   "metadata": {},
   "outputs": [],
   "source": [
    "# chunk triggers into trials which start with \"CUE_____\" and end befre \"CUE_____\" or \"BLOCK_START\"\n",
    "# anything which isn't a trial should be yielded as a separate trial\n",
    "\n",
    "def get_trials(triggers, delimiter=\"CUE_____\"):\n",
    "    trial = []\n",
    "    for t in triggers:\n",
    "        trig_type = t.split(\":\")[1].split(\"*\")[0]\n",
    "        if trig_type == delimiter:\n",
    "            if trial:\n",
    "                yield trial\n",
    "            trial = [t]\n",
    "        elif trig_type == \"BLOCK_START\":\n",
    "            if trial:\n",
    "                yield trial\n",
    "            trial = [t]\n",
    "        else:\n",
    "            trial.append(t)\n",
    "    yield trial"
   ]
  },
  {
   "cell_type": "code",
   "execution_count": null,
   "metadata": {},
   "outputs": [],
   "source": [
    "[trig for trial in get_trials(triggers) for trig in trial] == triggers"
   ]
  },
  {
   "cell_type": "code",
   "execution_count": null,
   "metadata": {},
   "outputs": [],
   "source": [
    "def modified_trigs(triggers, delimiter=\"CUE_____\"):\n",
    "    for trial in get_trials(triggers, delimiter):\n",
    "        first_trig_type = trial[0].split(\":\")[1].split(\"*\")[0]\n",
    "        if first_trig_type != delimiter:\n",
    "            yield from trial\n",
    "        else:\n",
    "            # get reaction type\n",
    "            reaction_type = \"-\"\n",
    "            for trig in trial:\n",
    "                if trig.split(\":\")[1].split(\"*\")[0] == \"REACTION\":\n",
    "                    reaction_type = trig.split(\"*\")[-1]\n",
    "            # apply reaction type to all triggers\n",
    "            for trig in trial:\n",
    "                trig_type = trig.split(\":\")[1].split(\"*\")[0]\n",
    "                if trig_type == \"SECOND_R\":\n",
    "                    yield trig\n",
    "                else:\n",
    "                    yield trig[:-1] + reaction_type\n"
   ]
  },
  {
   "cell_type": "code",
   "execution_count": null,
   "metadata": {},
   "outputs": [],
   "source": [
    "\n",
    "modified_triggers = list(modified_trigs(triggers))"
   ]
  },
  {
   "cell_type": "code",
   "execution_count": null,
   "metadata": {},
   "outputs": [],
   "source": [
    "# save modified triggers in the place of the original\n",
    "with open(filename, \"w\") as f:\n",
    "    lines = ((trigger + \"\\r\\n\") for trigger in modified_triggers)\n",
    "    f.writelines(lines)"
   ]
  },
  {
   "cell_type": "code",
   "execution_count": null,
   "metadata": {},
   "outputs": [],
   "source": []
  },
  {
   "cell_type": "code",
   "execution_count": null,
   "metadata": {},
   "outputs": [],
   "source": [
    "filename = \"michal_test/flankers_hajcak2005_without_cues_004feb/triggers_maps/triggerMap_test_no_cues_michal.txt\"\n",
    "# load file with triggers\n",
    "with open(filename, \"r\") as f:\n",
    "    triggers = f.readlines()\n",
    "triggers = [x.strip() for x in triggers]"
   ]
  },
  {
   "cell_type": "code",
   "execution_count": null,
   "metadata": {},
   "outputs": [],
   "source": [
    "trials = list(get_trials(triggers, delimiter=\"TARGET__\"))\n",
    "triggers == [trig for trial in trials for trig in trial]"
   ]
  },
  {
   "cell_type": "code",
   "execution_count": null,
   "metadata": {},
   "outputs": [],
   "source": [
    "modified_triggers = list(modified_trigs(triggers, delimiter=\"TARGET__\"))"
   ]
  },
  {
   "cell_type": "code",
   "execution_count": null,
   "metadata": {},
   "outputs": [],
   "source": [
    "# save modified triggers in the place of the original\n",
    "with open(filename, \"w\") as f:\n",
    "    lines = ((trigger + \"\\r\\n\") for trigger in modified_triggers)\n",
    "    f.writelines(lines)"
   ]
  },
  {
   "cell_type": "code",
   "execution_count": null,
   "metadata": {},
   "outputs": [],
   "source": []
  }
 ],
 "metadata": {
  "kernelspec": {
   "display_name": "Python 3.8.12 ('venv': venv)",
   "language": "python",
   "name": "python3"
  },
  "language_info": {
   "codemirror_mode": {
    "name": "ipython",
    "version": 3
   },
   "file_extension": ".py",
   "mimetype": "text/x-python",
   "name": "python",
   "nbconvert_exporter": "python",
   "pygments_lexer": "ipython3",
   "version": "3.8.12"
  },
  "vscode": {
   "interpreter": {
    "hash": "884e3ac7823ea31cf24a86c62d2dd711335360ebb4ce7f42e82a0ac0dba082c5"
   }
  }
 },
 "nbformat": 4,
 "nbformat_minor": 2
}
